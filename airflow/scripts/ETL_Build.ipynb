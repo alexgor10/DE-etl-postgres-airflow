{
 "cells": [
  {
   "cell_type": "code",
   "execution_count": 1,
   "id": "f09a899f-0367-4252-905e-cc805b0bd3ec",
   "metadata": {},
   "outputs": [],
   "source": [
    "import psycopg2\n",
    "import os\n",
    "import traceback\n",
    "import pandas as pd\n",
    "import urllib.request\n",
    "import logging"
   ]
  },
  {
   "cell_type": "code",
   "execution_count": 2,
   "id": "2335d831-312d-4fb8-81ae-3e047878556b",
   "metadata": {},
   "outputs": [],
   "source": [
    "logging.basicConfig(level=logging.INFO, format='%(asctime)s:%(funcName)s:%(levelname)s:(massage)s')"
   ]
  },
  {
   "cell_type": "code",
   "execution_count": 6,
   "id": "1f75f663-c7e1-4ab8-9fd7-ae425c79f267",
   "metadata": {},
   "outputs": [],
   "source": [
    "postgres_host = 'postgres'\n",
    "postgres_database = 'processing'\n",
    "postgres_user = os.environ.get('POSTGRES_USER')\n",
    "postgres_password = os.environ.get('POSTGRES_PASSWORD')\n",
    "postgres_port = '5432'\n",
    "dest_folder = './data'"
   ]
  },
  {
   "cell_type": "code",
   "execution_count": 7,
   "id": "bc51e20b-3216-4601-ac62-0c627310ee98",
   "metadata": {},
   "outputs": [],
   "source": [
    "url = 'https://raw.githubusercontent.com/xploiterx/datasets/master/Proyect-0/CSV/Churn_Modelling-1.csv'\n",
    "destination_path = f'{dest_folder}/Churn_Modelling-1.csv'"
   ]
  },
  {
   "cell_type": "code",
   "execution_count": 8,
   "id": "3870719b-c905-458b-8546-3b16073acd5e",
   "metadata": {},
   "outputs": [],
   "source": [
    "conn = psycopg2.connect(\n",
    "    host = postgres_host,\n",
    "    database = postgres_database,\n",
    "    user = postgres_user,\n",
    "    password = postgres_password,\n",
    "    port = postgres_port\n",
    ")"
   ]
  },
  {
   "cell_type": "code",
   "execution_count": 9,
   "id": "c2dd466a-9a16-41e4-a1db-dfb512d4221c",
   "metadata": {},
   "outputs": [
    {
     "name": "stderr",
     "output_type": "stream",
     "text": [
      "2024-08-25 20:16:09,191:<module>:INFO:(massage)s\n"
     ]
    }
   ],
   "source": [
    "try:\n",
    "    conn = psycopg2.connect(\n",
    "    host = postgres_host,\n",
    "    database = postgres_database,\n",
    "    user = postgres_user,\n",
    "    password = postgres_password,\n",
    "    port = postgres_port\n",
    "    )\n",
    "    cur = conn.cursor()\n",
    "    logging.info(\"La conexion a postgres es correcta\")\n",
    "\n",
    "except Exception as e:\n",
    "    traceback.print_exc()\n",
    "    logging.error(\"No se pudo crear la conexion\")"
   ]
  },
  {
   "cell_type": "code",
   "execution_count": 10,
   "id": "09d4d464-b01e-4a54-8d2b-60869c83cf0c",
   "metadata": {},
   "outputs": [],
   "source": [
    "def download_file_from_url(url: str, dest: str):\n",
    "    if not os.path.exists(str(dest)):\n",
    "        os.makedirs(str(dest))\n",
    "\n",
    "    try:\n",
    "        urllib.request.urlretrieve(url,destination_path)\n",
    "        logging.info('Archivo descargado exitosamente al directorio de trabajo')\n",
    "    except Exception as e:\n",
    "        logging.error(f'Error al descargar el archivo CSV debido a: {e}')\n",
    "        traceback.print_exc()"
   ]
  },
  {
   "cell_type": "code",
   "execution_count": 11,
   "id": "377426fc-cc24-410f-bc58-e36e46c65795",
   "metadata": {},
   "outputs": [],
   "source": [
    "def create_postgres_table():\n",
    "    \"\"\"\n",
    "    Crea la tabla de Postgres con un esquema deseado\n",
    "    \"\"\"\n",
    "    try:\n",
    "        cur.execute(\"\"\"CREATE TABLE IF NOT EXISTS churn_modelling (RowNumber INTEGER PRIMARY KEY, CustomerId INTEGER, \n",
    "        Surname VARCHAR(50), CreditScore INTEGER, Geography VARCHAR(50), Gender VARCHAR(20), Age INTEGER, \n",
    "        Tenure INTEGER, Balance FLOAT, NumOfProducts INTEGER, HasCrCard INTEGER, IsActiveMember INTEGER, EstimatedSalary FLOAT, Exited INTEGER)\"\"\")\n",
    "        \n",
    "        logging.info(' Nueva tabla churn_modelling creada exitosamente en el servidor de postgres')\n",
    "    except:\n",
    "        logging.warning(' Verifica si la tabla churn_modelling existe')"
   ]
  },
  {
   "cell_type": "code",
   "execution_count": 12,
   "id": "4e0f4a57-eef5-4993-b036-39cd35296fcf",
   "metadata": {},
   "outputs": [],
   "source": [
    "def write_to_postgres():\n",
    "    \"\"\"\n",
    "    Crea el dataframe y escribe en la tabla de Postgres si aún no existe\n",
    "    \"\"\"\n",
    "    df = pd.read_csv(f'{dest_folder}/Churn_Modelling-1.csv')\n",
    "    inserted_row_count = 0\n",
    "\n",
    "    for _, row in df.iterrows():\n",
    "        count_query = f\"\"\"SELECT COUNT(*) FROM churn_modelling WHERE RowNumber = {row['RowNumber']}\"\"\"\n",
    "        cur.execute(count_query)\n",
    "        result = cur.fetchone()\n",
    "        \n",
    "        if result[0] == 0:\n",
    "            inserted_row_count += 1\n",
    "            cur.execute(\"\"\"INSERT INTO churn_modelling (RowNumber, CustomerId, Surname, CreditScore, Geography, Gender, Age, \n",
    "            Tenure, Balance, NumOfProducts, HasCrCard, IsActiveMember, EstimatedSalary, Exited) VALUES (%s, %s, %s,%s, %s, %s,%s, %s, %s,%s, %s, %s,%s, %s)\"\"\", \n",
    "            (int(row[0]), int(row[1]), str(row[2]), int(row[3]), str(row[4]), str(row[5]), int(row[6]), int(row[7]), float(row[8]), int(row[9]), int(row[10]), int(row[11]), float(row[12]), int(row[13])))\n",
    "\n",
    "    logging.info(f' {inserted_row_count} filas del archivo CSV insertadas en la tabla churn_modelling con éxito')"
   ]
  },
  {
   "cell_type": "code",
   "execution_count": 13,
   "id": "cb45064b-95a6-43a5-9124-78aa2b2f1163",
   "metadata": {},
   "outputs": [
    {
     "name": "stderr",
     "output_type": "stream",
     "text": [
      "2024-08-25 20:23:32,102:download_file_from_url:INFO:(massage)s\n",
      "2024-08-25 20:23:32,189:create_postgres_table:INFO:(massage)s\n",
      "2024-08-25 20:23:52,232:write_to_postgres:INFO:(massage)s\n"
     ]
    }
   ],
   "source": [
    "if __name__ == '__main__':\n",
    "    download_file_from_url(url, dest_folder)\n",
    "    create_postgres_table()\n",
    "    write_to_postgres()\n",
    "    conn.commit()\n",
    "    cur.close()\n",
    "    conn.close()"
   ]
  },
  {
   "cell_type": "code",
   "execution_count": null,
   "id": "a3858389-bba5-408d-afcb-0fad9a4c4c88",
   "metadata": {},
   "outputs": [],
   "source": []
  },
  {
   "cell_type": "code",
   "execution_count": null,
   "id": "a845b3dc-4b86-4f4c-9f54-a0c709edda62",
   "metadata": {},
   "outputs": [],
   "source": []
  }
 ],
 "metadata": {
  "kernelspec": {
   "display_name": "Python 3 (ipykernel)",
   "language": "python",
   "name": "python3"
  },
  "language_info": {
   "codemirror_mode": {
    "name": "ipython",
    "version": 3
   },
   "file_extension": ".py",
   "mimetype": "text/x-python",
   "name": "python",
   "nbconvert_exporter": "python",
   "pygments_lexer": "ipython3",
   "version": "3.11.6"
  }
 },
 "nbformat": 4,
 "nbformat_minor": 5
}
